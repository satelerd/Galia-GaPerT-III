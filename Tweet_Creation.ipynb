{
  "nbformat": 4,
  "nbformat_minor": 0,
  "metadata": {
    "colab": {
      "name": "Tweet Creation.ipynb",
      "provenance": [],
      "toc_visible": true
    },
    "kernelspec": {
      "name": "python3",
      "display_name": "Python 3"
    },
    "language_info": {
      "name": "python"
    }
  },
  "cells": [
    {
      "cell_type": "code",
      "metadata": {
        "id": "c5M9R3MZHRD1"
      },
      "source": [
        "pip install openai"
      ],
      "execution_count": null,
      "outputs": []
    },
    {
      "cell_type": "code",
      "metadata": {
        "id": "Y6P5K7kHHXTZ"
      },
      "source": [
        "import tweepy\n",
        "import openai\n",
        "import json\n",
        "import os"
      ],
      "execution_count": 69,
      "outputs": []
    },
    {
      "cell_type": "code",
      "metadata": {
        "id": "esRejDrhUELI"
      },
      "source": [
        "# API info\n",
        "with open(\"Auth.json\") as f:\n",
        "  apis = json.load(f)\n",
        "\n",
        "#  Tweeter API Auth\n",
        "auth = tweepy.OAuthHandler(apis[\"api_key\"], apis[\"api_key_secret\"])\n",
        "auth.set_access_token(apis[\"access_token\"], apis[\"access_token_secret\"])\n",
        "oauth = auth\n",
        "api = tweepy.API(oauth)"
      ],
      "execution_count": 75,
      "outputs": []
    },
    {
      "cell_type": "code",
      "metadata": {
        "id": "77vAkCtntWz4"
      },
      "source": [
        "preset = \"Galia es una filosofa reconocida a nivel mundial que busca la creatividad, la libre expresión y la buena música. Galia es bastante sarcástica, por lo que a veces responde de mala gana.\\nEste modelo generara un Tweet según un tema a elección.\\n\\nTema: Música.\\nTweet: Sin música, la vida sería un error. Pero un error mas grave seria decir que el reggaetón es música.\\n###\\nTema: Uso de las redes sociales.\\nTweet: Las redes sociales son una herramienta muy buena, pero sin duda tenemos que cuidarnos de la posible adicción que nos pueden generar.\\n###\\nTema: El destino.\\nTweet: Creer que nuestro camino en la vida ya fue forjado, tiene una directa relacion con el bajo uso de la curiosidad.\\n###\\nTema: El ocio. \\nTweet: Siento que a veces hago mucho por la gente y la humanidad. ¿Por qué no puedo estar un rato sin hacer nada?\\n###\\nTema: La música.\\nTweet: La música crea mas simpatía que el sexo.\\n###\\nTema: Paises sub desarrollados.\\nTweet: Los paises subdesarrollados deberian ser mas estrictos con la migracion.\\n###\\nTema: Los carros.\\nTweet: Me gusta mucho andar en bicicleta, pero estoy en contra de querer cambiar el mundo por ese termino.\\n###\\nTema: pornografia.\\nTweet: me gusta mucho mirar porno, pero siempre tengo que tener cuidado con la hora, para no dar una \\\"sorpresa\\\" a mi madre.\\n###\\nTema:\"\n",
        "final = \".\\nTweet:\"\n",
        "\n",
        "theme = \"Desde hace mucho tiempo que vengo creyendo que lo que dices no esta bien... me parece una estupidez\""
      ],
      "execution_count": 180,
      "outputs": []
    },
    {
      "cell_type": "code",
      "metadata": {
        "colab": {
          "base_uri": "https://localhost:8080/",
          "height": 35
        },
        "id": "FoZrmygshK9A",
        "outputId": "91f91ffb-100d-4d30-8f34-706c963dc08a"
      },
      "source": [
        "openai.api_key = apis[\"openai_api_key\"]\n",
        "response = openai.Completion.create(\n",
        "  engine=\"davinci\",\n",
        "  prompt= preset + theme + final,\n",
        "  temperature=0.7,\n",
        "  max_tokens=64,\n",
        "  top_p=1,\n",
        "  frequency_penalty=0.2,\n",
        "  presence_penalty=0.16,\n",
        "  stop=[\"###\", \"\\n\"]\n",
        ")\n",
        "response.choices[0].text"
      ],
      "execution_count": 185,
      "outputs": [
        {
          "output_type": "execute_result",
          "data": {
            "application/vnd.google.colaboratory.intrinsic+json": {
              "type": "string"
            },
            "text/plain": [
              "' Y yo sigo creyendo que tu no lo estas. Y me parece que ya te lo explique muy bien.'"
            ]
          },
          "metadata": {
            "tags": []
          },
          "execution_count": 185
        }
      ]
    },
    {
      "cell_type": "code",
      "metadata": {
        "colab": {
          "base_uri": "https://localhost:8080/"
        },
        "id": "T7SlhX4qcZDQ",
        "outputId": "657de8a7-f7b6-450c-9f5a-4d22f8ea9012"
      },
      "source": [
        "def tweet(x):\n",
        "  api.update_status(x)\n",
        "  print(\"Tweeted\")"
      ],
      "execution_count": 162,
      "outputs": [
        {
          "output_type": "stream",
          "text": [
            "Tweeted\n"
          ],
          "name": "stdout"
        }
      ]
    },
    {
      "cell_type": "code",
      "metadata": {
        "colab": {
          "base_uri": "https://localhost:8080/",
          "height": 35
        },
        "id": "hGPYitEkHZ6Y",
        "outputId": "4f924159-f7b7-40a6-a475-1927ac4c3141"
      },
      "source": [
        "# Limpieza del texto\n",
        "\n",
        "text = (response.choices[0].text[1:]).capitalize()\n",
        "text"
      ],
      "execution_count": 178,
      "outputs": [
        {
          "output_type": "execute_result",
          "data": {
            "application/vnd.google.colaboratory.intrinsic+json": {
              "type": "string"
            },
            "text/plain": [
              "'Cuando pienso en el universo me da miedo, pero me da mas miedo cuando no pienso en el universo.'"
            ]
          },
          "metadata": {
            "tags": []
          },
          "execution_count": 178
        }
      ]
    },
    {
      "cell_type": "code",
      "metadata": {
        "id": "OvgOIeW7_dif"
      },
      "source": [
        "tweet(text)"
      ],
      "execution_count": null,
      "outputs": []
    }
  ]
}