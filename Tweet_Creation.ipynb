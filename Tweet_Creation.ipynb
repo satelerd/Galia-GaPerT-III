{
  "nbformat": 4,
  "nbformat_minor": 0,
  "metadata": {
    "colab": {
      "name": "Tweet Creation.ipynb",
      "provenance": [],
      "collapsed_sections": []
    },
    "kernelspec": {
      "name": "python3",
      "display_name": "Python 3"
    },
    "language_info": {
      "name": "python"
    }
  },
  "cells": [
    {
      "cell_type": "code",
      "metadata": {
        "id": "c5M9R3MZHRD1",
        "colab": {
          "base_uri": "https://localhost:8080/",
          "height": 799
        },
        "outputId": "eebaf0db-8f3b-41d7-c7df-3e067ff06619"
      },
      "source": [
        "pip install openai"
      ],
      "execution_count": 3,
      "outputs": [
        {
          "output_type": "stream",
          "text": [
            "Collecting openai\n",
            "  Downloading openai-0.10.1.tar.gz (155 kB)\n",
            "\u001b[?25l\r\u001b[K     |██                              | 10 kB 22.4 MB/s eta 0:00:01\r\u001b[K     |████▏                           | 20 kB 25.6 MB/s eta 0:00:01\r\u001b[K     |██████▎                         | 30 kB 30.8 MB/s eta 0:00:01\r\u001b[K     |████████▍                       | 40 kB 35.3 MB/s eta 0:00:01\r\u001b[K     |██████████▌                     | 51 kB 23.3 MB/s eta 0:00:01\r\u001b[K     |████████████▋                   | 61 kB 20.5 MB/s eta 0:00:01\r\u001b[K     |██████████████▊                 | 71 kB 19.3 MB/s eta 0:00:01\r\u001b[K     |████████████████▉               | 81 kB 18.6 MB/s eta 0:00:01\r\u001b[K     |███████████████████             | 92 kB 18.9 MB/s eta 0:00:01\r\u001b[K     |█████████████████████           | 102 kB 19.3 MB/s eta 0:00:01\r\u001b[K     |███████████████████████▏        | 112 kB 19.3 MB/s eta 0:00:01\r\u001b[K     |█████████████████████████▏      | 122 kB 19.3 MB/s eta 0:00:01\r\u001b[K     |███████████████████████████▎    | 133 kB 19.3 MB/s eta 0:00:01\r\u001b[K     |█████████████████████████████▍  | 143 kB 19.3 MB/s eta 0:00:01\r\u001b[K     |███████████████████████████████▌| 153 kB 19.3 MB/s eta 0:00:01\r\u001b[K     |████████████████████████████████| 155 kB 19.3 MB/s \n",
            "\u001b[?25hRequirement already satisfied: requests>=2.20 in /usr/local/lib/python3.7/dist-packages (from openai) (2.23.0)\n",
            "Requirement already satisfied: tqdm in /usr/local/lib/python3.7/dist-packages (from openai) (4.41.1)\n",
            "Collecting pandas>=1.2.3\n",
            "  Downloading pandas-1.3.1-cp37-cp37m-manylinux_2_17_x86_64.manylinux2014_x86_64.whl (11.5 MB)\n",
            "\u001b[K     |████████████████████████████████| 11.5 MB 28.0 MB/s \n",
            "\u001b[?25hCollecting pandas-stubs>=1.1.0.11\n",
            "  Downloading pandas_stubs-1.2.0.1-py3-none-any.whl (157 kB)\n",
            "\u001b[K     |████████████████████████████████| 157 kB 56.2 MB/s \n",
            "\u001b[?25hCollecting openpyxl>=3.0.7\n",
            "  Downloading openpyxl-3.0.7-py2.py3-none-any.whl (243 kB)\n",
            "\u001b[K     |████████████████████████████████| 243 kB 50.3 MB/s \n",
            "\u001b[?25hRequirement already satisfied: et-xmlfile in /usr/local/lib/python3.7/dist-packages (from openpyxl>=3.0.7->openai) (1.1.0)\n",
            "Requirement already satisfied: numpy>=1.17.3 in /usr/local/lib/python3.7/dist-packages (from pandas>=1.2.3->openai) (1.19.5)\n",
            "Requirement already satisfied: pytz>=2017.3 in /usr/local/lib/python3.7/dist-packages (from pandas>=1.2.3->openai) (2018.9)\n",
            "Requirement already satisfied: python-dateutil>=2.7.3 in /usr/local/lib/python3.7/dist-packages (from pandas>=1.2.3->openai) (2.8.1)\n",
            "Requirement already satisfied: typing-extensions>=3.7.4.3 in /usr/local/lib/python3.7/dist-packages (from pandas-stubs>=1.1.0.11->openai) (3.7.4.3)\n",
            "Requirement already satisfied: six>=1.5 in /usr/local/lib/python3.7/dist-packages (from python-dateutil>=2.7.3->pandas>=1.2.3->openai) (1.15.0)\n",
            "Requirement already satisfied: urllib3!=1.25.0,!=1.25.1,<1.26,>=1.21.1 in /usr/local/lib/python3.7/dist-packages (from requests>=2.20->openai) (1.24.3)\n",
            "Requirement already satisfied: certifi>=2017.4.17 in /usr/local/lib/python3.7/dist-packages (from requests>=2.20->openai) (2021.5.30)\n",
            "Requirement already satisfied: idna<3,>=2.5 in /usr/local/lib/python3.7/dist-packages (from requests>=2.20->openai) (2.10)\n",
            "Requirement already satisfied: chardet<4,>=3.0.2 in /usr/local/lib/python3.7/dist-packages (from requests>=2.20->openai) (3.0.4)\n",
            "Building wheels for collected packages: openai\n",
            "  Building wheel for openai (setup.py) ... \u001b[?25l\u001b[?25hdone\n",
            "  Created wheel for openai: filename=openai-0.10.1-py3-none-any.whl size=167551 sha256=6826ede802ebb2df9b9bb3d7ec24ebaaef7c99c6acf18ff4f2de493ded6a7a12\n",
            "  Stored in directory: /root/.cache/pip/wheels/06/90/44/74a9536b153b7ca2fcadaf316a552a2018fd298b95c153af05\n",
            "Successfully built openai\n",
            "Installing collected packages: pandas-stubs, pandas, openpyxl, openai\n",
            "  Attempting uninstall: pandas\n",
            "    Found existing installation: pandas 1.1.5\n",
            "    Uninstalling pandas-1.1.5:\n",
            "      Successfully uninstalled pandas-1.1.5\n",
            "  Attempting uninstall: openpyxl\n",
            "    Found existing installation: openpyxl 2.5.9\n",
            "    Uninstalling openpyxl-2.5.9:\n",
            "      Successfully uninstalled openpyxl-2.5.9\n",
            "\u001b[31mERROR: pip's dependency resolver does not currently take into account all the packages that are installed. This behaviour is the source of the following dependency conflicts.\n",
            "google-colab 1.0.0 requires pandas~=1.1.0; python_version >= \"3.0\", but you have pandas 1.3.1 which is incompatible.\u001b[0m\n",
            "Successfully installed openai-0.10.1 openpyxl-3.0.7 pandas-1.3.1 pandas-stubs-1.2.0.1\n"
          ],
          "name": "stdout"
        },
        {
          "output_type": "display_data",
          "data": {
            "application/vnd.colab-display-data+json": {
              "pip_warning": {
                "packages": [
                  "pandas"
                ]
              }
            }
          },
          "metadata": {
            "tags": []
          }
        }
      ]
    },
    {
      "cell_type": "code",
      "metadata": {
        "id": "Y6P5K7kHHXTZ"
      },
      "source": [
        "import tweepy\n",
        "import openai\n",
        "import json\n",
        "import os"
      ],
      "execution_count": 4,
      "outputs": []
    },
    {
      "cell_type": "code",
      "metadata": {
        "id": "esRejDrhUELI"
      },
      "source": [
        "# API info\n",
        "with open(\"/content/drive/MyDrive/Code/Galia/Auth.json\") as f:\n",
        "  apis = json.load(f)\n",
        "\n",
        "#  Tweeter API Auth\n",
        "auth = tweepy.OAuthHandler(apis[\"api_key\"], apis[\"api_key_secret\"])\n",
        "auth.set_access_token(apis[\"access_token\"], apis[\"access_token_secret\"])\n",
        "oauth = auth\n",
        "api = tweepy.API(oauth)"
      ],
      "execution_count": 7,
      "outputs": []
    },
    {
      "cell_type": "code",
      "metadata": {
        "id": "FoZrmygshK9A"
      },
      "source": [
        "# Preset pasado\n",
        "# preset = \"Galia es una filosofa reconocida a nivel mundial que busca la creatividad, la libre expresión y la buena música. Galia es bastante sarcástica, por lo que a veces responde de mala gana.\\nEste modelo generara un Tweet según un tema a elección.\\n\\nTema: Música.\\nTweet: Sin música, la vida sería un error. Pero un error mas grave seria decir que el reggaetón es música.\\n###\\nTema: Uso de las redes sociales.\\nTweet: Las redes sociales son una herramienta muy buena, pero sin duda tenemos que cuidarnos de la posible adicción que nos pueden generar.\\n###\\nTema: El destino.\\nTweet: Creer que nuestro camino en la vida ya fue forjado, tiene una directa relacion con el bajo uso de la curiosidad.\\n###\\nTema: El ocio. \\nTweet: Siento que a veces hago mucho por la gente y la humanidad. ¿Por qué no puedo estar un rato sin hacer nada?\\n###\\nTema: La música.\\nTweet: La música crea mas simpatía que el sexo.\\n###\\nTema: Paises sub desarrollados.\\nTweet: Los paises subdesarrollados deberian ser mas estrictos con la migracion.\\n###\\nTema: Los carros.\\nTweet: Me gusta mucho andar en bicicleta, pero estoy en contra de querer cambiar el mundo por ese termino.\\n###\\nTema: pornografia.\\nTweet: me gusta mucho mirar porno, pero siempre tengo que tener cuidado con la hora, para no dar una \\\"sorpresa\\\" a mi madre.\\n###\\nTema:\""
      ],
      "execution_count": 84,
      "outputs": []
    },
    {
      "cell_type": "code",
      "metadata": {
        "colab": {
          "base_uri": "https://localhost:8080/"
        },
        "id": "hGPYitEkHZ6Y",
        "outputId": "d6d4850f-1313-4d43-8faf-2344a54f5c1e"
      },
      "source": [
        "# SELECCIONAR EL TEMA\n",
        "theme_selector = \"\"\n",
        "\n",
        "\n",
        "# Uso de GPT-3\n",
        "preset = \"Galia es una filosofa reconocida a nivel mundial que busca la creatividad, la libre expresión y la buena música. Galia es bastante sarcástica, por lo que a veces responde de mala gana.\\nEste modelo generara un Tweet de Galia según un tema a elección.\\n\\nTema: El ocio. \\nTweet: Siento que a veces hago mucho por la gente y la humanidad. ¿Por qué no puedo estar un rato sin hacer nada?\\n###\\nTema: La música.\\nTweet: La música crea mas simpatía que el sexo.\\n###\\nTema: Paises sub desarrollados.\\nTweet: Los paises subdesarrollados deberian ser mas estrictos con la migracion.\\n###\\nTema: Los carros.\\nTweet: Me gusta mucho andar en bicicleta, pero estoy en contra de querer cambiar el mundo por ese termino.\\n###\\nTema: Pornografia.\\nTweet: Me gusta mucho mirar porno, pero siempre tengo que tener cuidado con la hora, para no dar una \\\"sorpresa\\\" a mi madre.\\n###\\nTema: La gente.\\nTweet: La gente es una raza aislada, que se siente superior y que no tiene en cuenta el mundo que la rodea.\\n###\\nTema:\"\n",
        "final = \".\\nTweet:\"\n",
        "\n",
        "openai.api_key = apis[\"openai_api_key\"]\n",
        "response = openai.Completion.create(\n",
        "  engine=\"davinci\",\n",
        "  prompt= preset,\n",
        "  temperature=0.75,\n",
        "  max_tokens=75,\n",
        "  top_p=1,\n",
        "  frequency_penalty=0.2,\n",
        "  presence_penalty=0.16,\n",
        "  stop=[\"###\"]\n",
        ")\n",
        "text = response.choices[0].text\n",
        "\n",
        "\n",
        "# Limpieza del texto\n",
        "cont = 0\n",
        "for letter in text:\n",
        "  if letter == ':':\n",
        "    break\n",
        "  cont += 1\n",
        "\n",
        "theme = text[:cont-6]\n",
        "text = text[cont+2:len(text)-1]\n",
        "text = text.capitalize()\n",
        "\n",
        "if text.find(\"\\n\") > 0:\n",
        "  text = text[:text.find(\"\\n\")]\n",
        "\n",
        "print(\"theme: \"+theme)\n",
        "print(text)"
      ],
      "execution_count": 109,
      "outputs": [
        {
          "output_type": "stream",
          "text": [
            "theme:  La guerra.\n",
            "La guerra es una prueba más de que la gente no piensa con su cabeza.\n"
          ],
          "name": "stdout"
        }
      ]
    },
    {
      "cell_type": "code",
      "metadata": {
        "id": "OvgOIeW7_dif",
        "colab": {
          "base_uri": "https://localhost:8080/"
        },
        "outputId": "8a60e2f8-de55-46f2-c57c-594f2f9a8a2c"
      },
      "source": [
        "def tweet(x):\n",
        "  api.update_status(x)\n",
        "  print(\"Tweeted\")\n",
        "\n",
        "tweet(text)"
      ],
      "execution_count": 104,
      "outputs": [
        {
          "output_type": "stream",
          "text": [
            "Tweeted\n"
          ],
          "name": "stdout"
        }
      ]
    }
  ]
}